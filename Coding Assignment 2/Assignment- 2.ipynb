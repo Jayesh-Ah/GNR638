{
 "cells": [
  {
   "cell_type": "code",
   "execution_count": 29,
   "id": "66342966",
   "metadata": {},
   "outputs": [],
   "source": [
    "import os\n",
    "import numpy as np\n",
    "import torch\n",
    "import torch.nn as nn\n",
    "import torch.optim as optim\n",
    "from torch.utils.data import Dataset, DataLoader\n",
    "import cv2\n",
    "from sklearn.model_selection import train_test_split\n",
    "from sklearn.preprocessing import StandardScaler\n",
    "import matplotlib.pyplot as plt\n",
    "from PIL import Image\n",
    "from sklearn.cluster import KMeans\n",
    "from tqdm import tqdm"
   ]
  },
  {
   "cell_type": "code",
   "execution_count": 30,
   "id": "516c3c84",
   "metadata": {},
   "outputs": [],
   "source": [
    "def load_image_data(image_dir):\n",
    "    \"\"\"Load images and labels from directory\"\"\"\n",
    "    categories = list(range(1, 22))  # 1 to 21\n",
    "    image_paths, image_labels = [], []\n",
    "    \n",
    "    for idx, folder in enumerate(sorted(os.listdir(image_dir))):\n",
    "        folder_path = os.path.join(image_dir, folder)\n",
    "        if os.path.isdir(folder_path):\n",
    "            for img_file in os.listdir(folder_path):\n",
    "                if img_file.endswith('.tif'):\n",
    "                    image_paths.append(os.path.join(folder_path, img_file))\n",
    "                    image_labels.append(categories[idx])\n",
    "                    \n",
    "    return np.array(image_paths), np.array(image_labels)\n",
    "\n",
    "# Load and split data\n",
    "image_dir = r\"C:\\Users\\Kalpesh\\Downloads\\UCMerced_LandUse\\UCMerced_LandUse\\Images\"  # Update this path\n",
    "image_paths, image_labels = load_image_data(image_dir)\n",
    "\n",
    "# Split data\n",
    "train_paths, test_paths, train_labels, test_labels = train_test_split(\n",
    "    image_paths, image_labels, test_size=0.3, stratify=image_labels, random_state=42)\n",
    "val_paths, test_paths, val_labels, test_labels = train_test_split(\n",
    "    test_paths, test_labels, test_size=0.6667, stratify=test_labels, random_state=42)"
   ]
  },
  {
   "cell_type": "code",
   "execution_count": 31,
   "id": "1eb66108",
   "metadata": {},
   "outputs": [],
   "source": [
    "def extract_sift_features(image_path):\n",
    "    \"\"\"Extract SIFT features from an image\"\"\"\n",
    "    try:\n",
    "        img = cv2.imread(image_path, cv2.IMREAD_GRAYSCALE)\n",
    "        if img is None:\n",
    "            print(f\"Error loading image {image_path}\")\n",
    "            return None\n",
    "        \n",
    "        sift = cv2.SIFT_create()\n",
    "        _, descriptors = sift.detectAndCompute(img, None)\n",
    "        return descriptors\n",
    "    except Exception as e:\n",
    "        print(f\"Error processing image {image_path}: {e}\")\n",
    "        return None\n",
    "\n",
    "def build_codebook(image_paths, n_clusters):\n",
    "    \"\"\"Build codebook using K-means clustering\"\"\"\n",
    "    print(\"Building codebook...\")\n",
    "    all_descriptors = []\n",
    "    \n",
    "    for img_path in tqdm(image_paths):\n",
    "        descriptors = extract_sift_features(img_path)\n",
    "        if descriptors is not None:\n",
    "            all_descriptors.append(descriptors)\n",
    "    \n",
    "    all_descriptors = np.vstack(all_descriptors)\n",
    "    \n",
    "    print(f\"Performing K-means clustering with {n_clusters} clusters...\")\n",
    "    kmeans = KMeans(n_clusters=n_clusters, random_state=42)\n",
    "    kmeans.fit(all_descriptors)\n",
    "    return kmeans\n",
    "\n",
    "def create_histogram(descriptors, kmeans):\n",
    "    \"\"\"Create histogram of visual words\"\"\"\n",
    "    histogram = np.zeros(kmeans.n_clusters)\n",
    "    if descriptors is not None:\n",
    "        cluster_assignments = kmeans.predict(descriptors)\n",
    "        for cluster in cluster_assignments:\n",
    "            histogram[cluster] += 1\n",
    "    return histogram"
   ]
  },
  {
   "cell_type": "code",
   "execution_count": 32,
   "id": "752a6898",
   "metadata": {},
   "outputs": [
    {
     "name": "stdout",
     "output_type": "stream",
     "text": [
      "\n",
      "Processing Bag of Words features...\n",
      "Building codebook...\n"
     ]
    },
    {
     "name": "stderr",
     "output_type": "stream",
     "text": [
      "100%|██████████████████████████████████████████████████████████████████████████████| 1470/1470 [03:21<00:00,  7.30it/s]\n"
     ]
    },
    {
     "name": "stdout",
     "output_type": "stream",
     "text": [
      "Performing K-means clustering with 500 clusters...\n"
     ]
    },
    {
     "name": "stderr",
     "output_type": "stream",
     "text": [
      "100%|██████████████████████████████████████████████████████████████████████████████| 1470/1470 [03:31<00:00,  6.94it/s]\n",
      "100%|████████████████████████████████████████████████████████████████████████████████| 209/209 [00:23<00:00,  8.88it/s]\n",
      "100%|████████████████████████████████████████████████████████████████████████████████| 421/421 [01:10<00:00,  5.99it/s]\n"
     ]
    }
   ],
   "source": [
    "# Process Bag of Words features\n",
    "print(\"\\nProcessing Bag of Words features...\")\n",
    "n_clusters = 500\n",
    "kmeans = build_codebook(train_paths, n_clusters)\n",
    "\n",
    "# Create histograms\n",
    "X_train_bow = np.array([create_histogram(extract_sift_features(img), kmeans) for img in tqdm(train_paths)])\n",
    "X_val_bow = np.array([create_histogram(extract_sift_features(img), kmeans) for img in tqdm(val_paths)])\n",
    "X_test_bow = np.array([create_histogram(extract_sift_features(img), kmeans) for img in tqdm(test_paths)])\n",
    "\n",
    "# Scale features\n",
    "scaler = StandardScaler()\n",
    "X_train_bow_scaled = scaler.fit_transform(X_train_bow)\n",
    "X_val_bow_scaled = scaler.transform(X_val_bow)\n",
    "X_test_bow_scaled = scaler.transform(X_test_bow)"
   ]
  },
  {
   "cell_type": "code",
   "execution_count": 33,
   "id": "e1dee109",
   "metadata": {},
   "outputs": [],
   "source": [
    "class MLP(nn.Module):\n",
    "    def __init__(self, input_size, hidden_size, num_classes):\n",
    "        super(MLP, self).__init__()\n",
    "        self.layer1 = nn.Linear(input_size, hidden_size)\n",
    "        self.bn1 = nn.BatchNorm1d(hidden_size)\n",
    "        self.layer2 = nn.Linear(hidden_size, hidden_size)\n",
    "        self.bn2 = nn.BatchNorm1d(hidden_size)\n",
    "        self.layer3 = nn.Linear(hidden_size, num_classes)\n",
    "        self.relu = nn.ReLU()\n",
    "        self.dropout = nn.Dropout(0.5)\n",
    "        \n",
    "    def forward(self, x):\n",
    "        x = self.relu(self.bn1(self.layer1(x)))\n",
    "        x = self.dropout(x)\n",
    "        x = self.relu(self.bn2(self.layer2(x)))\n",
    "        x = self.dropout(x)\n",
    "        x = self.layer3(x)\n",
    "        return x\n",
    "\n",
    "class CustomDataset(Dataset):\n",
    "    def __init__(self, features, labels):\n",
    "        self.features = torch.FloatTensor(features)\n",
    "        self.labels = torch.LongTensor(labels) - 1  # Adjust labels to start from 0\n",
    "        \n",
    "    def __len__(self):\n",
    "        return len(self.labels)\n",
    "    \n",
    "    def __getitem__(self, idx):\n",
    "        return self.features[idx], self.labels[idx]"
   ]
  },
  {
   "cell_type": "code",
   "execution_count": 34,
   "id": "4237407b",
   "metadata": {},
   "outputs": [
    {
     "name": "stderr",
     "output_type": "stream",
     "text": [
      "C:\\Users\\Kalpesh\\AppData\\Local\\Programs\\Python\\Python310\\lib\\site-packages\\torch\\optim\\lr_scheduler.py:62: UserWarning: The verbose parameter is deprecated. Please use get_last_lr() to access the learning rate.\n",
      "  warnings.warn(\n"
     ]
    }
   ],
   "source": [
    "# Create data loaders\n",
    "batch_size = 64\n",
    "train_dataset_bow = CustomDataset(X_train_bow_scaled, train_labels)\n",
    "val_dataset_bow = CustomDataset(X_val_bow_scaled, val_labels)\n",
    "test_dataset_bow = CustomDataset(X_test_bow_scaled, test_labels)\n",
    "\n",
    "train_loader_bow = DataLoader(train_dataset_bow, batch_size=batch_size, shuffle=True)\n",
    "val_loader_bow = DataLoader(val_dataset_bow, batch_size=batch_size, shuffle=False)\n",
    "test_loader_bow = DataLoader(test_dataset_bow, batch_size=batch_size, shuffle=False)\n",
    "\n",
    "# Model initialization\n",
    "input_size_bow = X_train_bow.shape[1]\n",
    "hidden_size_bow = 512\n",
    "num_classes = 21\n",
    "device = torch.device(\"cuda\" if torch.cuda.is_available() else \"cpu\")\n",
    "\n",
    "model_bow = MLP(input_size_bow, hidden_size_bow, num_classes).to(device)\n",
    "criterion = nn.CrossEntropyLoss()\n",
    "optimizer = optim.Adam(model_bow.parameters(), lr=0.0003)\n",
    "scheduler = optim.lr_scheduler.ReduceLROnPlateau(optimizer, mode='max', \n",
    "                                               factor=0.5, patience=5,\n",
    "                                               verbose=True)"
   ]
  },
  {
   "cell_type": "code",
   "execution_count": 35,
   "id": "9d58cb81",
   "metadata": {},
   "outputs": [],
   "source": [
    "def train_model(model, train_loader, val_loader, criterion, optimizer, scheduler, num_epochs=100):\n",
    "    train_losses = []\n",
    "    val_losses = []\n",
    "    best_val_acc = 0\n",
    "    \n",
    "    for epoch in range(num_epochs):\n",
    "        # Training\n",
    "        model.train()\n",
    "        running_loss = 0.0\n",
    "        correct = 0\n",
    "        total = 0\n",
    "        \n",
    "        for inputs, labels in train_loader:\n",
    "            inputs, labels = inputs.to(device), labels.to(device)\n",
    "            optimizer.zero_grad()\n",
    "            outputs = model(inputs)\n",
    "            loss = criterion(outputs, labels)\n",
    "            loss.backward()\n",
    "            optimizer.step()\n",
    "            \n",
    "            running_loss += loss.item()\n",
    "            _, predicted = torch.max(outputs.data, 1)\n",
    "            total += labels.size(0)\n",
    "            correct += (predicted == labels).sum().item()\n",
    "            \n",
    "        train_loss = running_loss / len(train_loader)\n",
    "        train_acc = 100 * correct / total\n",
    "        train_losses.append(train_loss)\n",
    "        \n",
    "        # Validation\n",
    "        model.eval()\n",
    "        running_loss = 0.0\n",
    "        correct = 0\n",
    "        total = 0\n",
    "        \n",
    "        with torch.no_grad():\n",
    "            for inputs, labels in val_loader:\n",
    "                inputs, labels = inputs.to(device), labels.to(device)\n",
    "                outputs = model(inputs)\n",
    "                loss = criterion(outputs, labels)\n",
    "                running_loss += loss.item()\n",
    "                _, predicted = torch.max(outputs.data, 1)\n",
    "                total += labels.size(0)\n",
    "                correct += (predicted == labels).sum().item()\n",
    "        \n",
    "        val_loss = running_loss / len(val_loader)\n",
    "        val_acc = 100 * correct / total\n",
    "        val_losses.append(val_loss)\n",
    "        \n",
    "        # Scheduler step\n",
    "        scheduler.step(val_acc)\n",
    "        \n",
    "        if val_acc > best_val_acc:\n",
    "            best_val_acc = val_acc\n",
    "            \n",
    "        if (epoch + 1) % 10 == 0:\n",
    "            print(f'Epoch [{epoch+1}/{num_epochs}], Train Loss: {train_loss:.4f}, Val Loss: {val_loss:.4f}, Val Acc: {val_acc:.2f}%')\n",
    "            \n",
    "        # Early stopping\n",
    "        if epoch > 20 and val_losses[-1] > val_losses[-10]:\n",
    "            print(\"Early stopping triggered\")\n",
    "            break\n",
    "    \n",
    "    return train_losses, val_losses, best_val_acc"
   ]
  },
  {
   "cell_type": "code",
   "execution_count": 36,
   "id": "c5cf4a5f",
   "metadata": {},
   "outputs": [
    {
     "name": "stdout",
     "output_type": "stream",
     "text": [
      "Training Bag of Words MLP...\n",
      "Epoch [10/100], Train Loss: 0.8903, Val Loss: 0.9734, Val Acc: 68.90%\n",
      "Epoch [20/100], Train Loss: 0.3501, Val Loss: 0.7621, Val Acc: 72.25%\n",
      "Epoch [30/100], Train Loss: 0.1859, Val Loss: 0.7402, Val Acc: 71.29%\n",
      "Early stopping triggered\n",
      "\n",
      "Bag of Words MLP Test Accuracy: 72.68%\n"
     ]
    }
   ],
   "source": [
    "print(\"Training Bag of Words MLP...\")\n",
    "train_losses_bow, val_losses_bow, best_val_acc_bow = train_model(\n",
    "    model_bow, train_loader_bow, val_loader_bow, criterion, optimizer, scheduler)\n",
    "\n",
    "# Evaluate on test set\n",
    "model_bow.eval()\n",
    "correct = 0\n",
    "total = 0\n",
    "with torch.no_grad():\n",
    "    for inputs, labels in test_loader_bow:\n",
    "        inputs, labels = inputs.to(device), labels.to(device)\n",
    "        outputs = model_bow(inputs)\n",
    "        _, predicted = torch.max(outputs.data, 1)\n",
    "        total += labels.size(0)\n",
    "        correct += (predicted == labels).sum().item()\n",
    "\n",
    "test_acc = 100 * correct / total\n",
    "print(f\"\\nBag of Words MLP Test Accuracy: {test_acc:.2f}%\")"
   ]
  },
  {
   "cell_type": "code",
   "execution_count": 37,
   "id": "fbe470cc",
   "metadata": {},
   "outputs": [
    {
     "data": {
      "image/png": "[encoded data removed]",
      "text/plain": [
       "<Figure size 720x360 with 1 Axes>"
      ]
     },
     "metadata": {
      "needs_background": "light"
     },
     "output_type": "display_data"
    }
   ],
   "source": [
    "plt.figure(figsize=(10, 5))\n",
    "plt.plot(train_losses_bow, label='Train Loss')\n",
    "plt.plot(val_losses_bow, label='Val Loss')\n",
    "plt.title('Training and Validation Loss')\n",
    "plt.xlabel('Epoch')\n",
    "plt.ylabel('Loss')\n",
    "plt.legend()\n",
    "plt.show()"
   ]
  },
  {
   "cell_type": "code",
   "execution_count": null,
   "id": "2cde8602",
   "metadata": {},
   "outputs": [],
   "source": []
  },
  {
   "cell_type": "code",
   "execution_count": 38,
   "id": "4ff59bf9",
   "metadata": {},
   "outputs": [
    {
     "name": "stdout",
     "output_type": "stream",
     "text": [
      "\n",
      "Processing direct image features...\n"
     ]
    },
    {
     "name": "stderr",
     "output_type": "stream",
     "text": [
      "100%|████████████████████████████████████████████████████████████████████████████| 1470/1470 [00:01<00:00, 1094.09it/s]\n",
      "100%|██████████████████████████████████████████████████████████████████████████████| 209/209 [00:00<00:00, 1365.65it/s]\n",
      "100%|██████████████████████████████████████████████████████████████████████████████| 421/421 [00:00<00:00, 1313.20it/s]\n",
      "C:\\Users\\Kalpesh\\AppData\\Local\\Programs\\Python\\Python310\\lib\\site-packages\\torch\\optim\\lr_scheduler.py:62: UserWarning: The verbose parameter is deprecated. Please use get_last_lr() to access the learning rate.\n",
      "  warnings.warn(\n"
     ]
    },
    {
     "name": "stdout",
     "output_type": "stream",
     "text": [
      "\n",
      "Training Image MLP...\n",
      "Epoch [10/100], Train Loss: 1.2742, Val Loss: 2.1822, Val Acc: 34.45%\n",
      "Epoch [20/100], Train Loss: 0.3846, Val Loss: 2.2713, Val Acc: 30.14%\n",
      "Early stopping triggered\n",
      "\n",
      "Image MLP Test Accuracy: 32.30%\n"
     ]
    },
    {
     "data": {
      "image/png": "[encoded data removed]",
      "text/plain": [
       "<Figure size 720x360 with 1 Axes>"
      ]
     },
     "metadata": {
      "needs_background": "light"
     },
     "output_type": "display_data"
    },
    {
     "name": "stdout",
     "output_type": "stream",
     "text": [
      "\n",
      "Model Comparison:\n",
      "Bag of Words MLP Test Accuracy: 72.68%\n",
      "Image MLP Test Accuracy: 32.30%\n"
     ]
    }
   ],
   "source": [
    "# Process direct image features\n",
    "def load_and_preprocess_image(image_path, target_size=(72, 72)):\n",
    "    \"\"\"Load and preprocess image to specified size\"\"\"\n",
    "    img = cv2.imread(image_path)\n",
    "    img = cv2.resize(img, target_size)\n",
    "    img = cv2.cvtColor(img, cv2.COLOR_BGR2GRAY)  # Convert to grayscale\n",
    "    img = img.flatten() / 255.0  # Normalize pixel values\n",
    "    return img\n",
    "\n",
    "print(\"\\nProcessing direct image features...\")\n",
    "# Create image features\n",
    "X_train_img = np.array([load_and_preprocess_image(img) for img in tqdm(train_paths)])\n",
    "X_val_img = np.array([load_and_preprocess_image(img) for img in tqdm(val_paths)])\n",
    "X_test_img = np.array([load_and_preprocess_image(img) for img in tqdm(test_paths)])\n",
    "\n",
    "# Scale image features\n",
    "scaler_img = StandardScaler()\n",
    "X_train_img_scaled = scaler_img.fit_transform(X_train_img)\n",
    "X_val_img_scaled = scaler_img.transform(X_val_img)\n",
    "X_test_img_scaled = scaler_img.transform(X_test_img)\n",
    "\n",
    "# Create data loaders for image features\n",
    "train_dataset_img = CustomDataset(X_train_img_scaled, train_labels)\n",
    "val_dataset_img = CustomDataset(X_val_img_scaled, val_labels)\n",
    "test_dataset_img = CustomDataset(X_test_img_scaled, test_labels)\n",
    "\n",
    "train_loader_img = DataLoader(train_dataset_img, batch_size=batch_size, shuffle=True)\n",
    "val_loader_img = DataLoader(val_dataset_img, batch_size=batch_size, shuffle=False)\n",
    "test_loader_img = DataLoader(test_dataset_img, batch_size=batch_size, shuffle=False)\n",
    "\n",
    "# Model initialization for image features\n",
    "input_size_img = 72 * 72  # Flattened image size\n",
    "hidden_size_img = 1024  # Larger hidden size for image features\n",
    "model_img = MLP(input_size_img, hidden_size_img, num_classes).to(device)\n",
    "\n",
    "# Different optimizer settings for image model\n",
    "optimizer_img = optim.Adam(model_img.parameters(), lr=0.0001)  # Lower learning rate\n",
    "scheduler_img = optim.lr_scheduler.ReduceLROnPlateau(optimizer_img, mode='max',\n",
    "                                                   factor=0.5, patience=5,\n",
    "                                                   verbose=True)\n",
    "\n",
    "print(\"\\nTraining Image MLP...\")\n",
    "train_losses_img, val_losses_img, best_val_acc_img = train_model(\n",
    "    model_img, train_loader_img, val_loader_img, criterion, optimizer_img, scheduler_img)\n",
    "\n",
    "# Evaluate image model on test set\n",
    "model_img.eval()\n",
    "correct = 0\n",
    "total = 0\n",
    "with torch.no_grad():\n",
    "    for inputs, labels in test_loader_img:\n",
    "        inputs, labels = inputs.to(device), labels.to(device)\n",
    "        outputs = model_img(inputs)\n",
    "        _, predicted = torch.max(outputs.data, 1)\n",
    "        total += labels.size(0)\n",
    "        correct += (predicted == labels).sum().item()\n",
    "\n",
    "test_acc_img = 100 * correct / total\n",
    "print(f\"\\nImage MLP Test Accuracy: {test_acc_img:.2f}%\")\n",
    "\n",
    "# Plot losses for image model\n",
    "plt.figure(figsize=(10, 5))\n",
    "plt.plot(train_losses_img, label='Train Loss')\n",
    "plt.plot(val_losses_img, label='Val Loss')\n",
    "plt.title('Training and Validation Loss (Image MLP)')\n",
    "plt.xlabel('Epoch')\n",
    "plt.ylabel('Loss')\n",
    "plt.legend()\n",
    "plt.show()\n",
    "\n",
    "# Compare results\n",
    "print(\"\\nModel Comparison:\")\n",
    "print(f\"Bag of Words MLP Test Accuracy: {test_acc:.2f}%\")\n",
    "print(f\"Image MLP Test Accuracy: {test_acc_img:.2f}%\")"
   ]
  },
  {
   "cell_type": "code",
   "execution_count": null,
   "id": "ba34ade1",
   "metadata": {},
   "outputs": [],
   "source": []
  }
 ],
 "metadata": {
  "kernelspec": {
   "display_name": "Python 3 (ipykernel)",
   "language": "python",
   "name": "python3"
  },
  "language_info": {
   "codemirror_mode": {
    "name": "ipython",
    "version": 3
   },
   "file_extension": ".py",
   "mimetype": "text/x-python",
   "name": "python",
   "nbconvert_exporter": "python",
   "pygments_lexer": "ipython3",
   "version": "3.10.2"
  }
 },
 "nbformat": 4,
 "nbformat_minor": 5
}
